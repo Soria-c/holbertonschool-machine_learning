{
 "cells": [
  {
   "cell_type": "code",
   "execution_count": null,
   "metadata": {},
   "outputs": [],
   "source": [
    "#!/usr/bin/env python3\n",
    "\n",
    "BO = __import__('4-bayes_opt').BayesianOptimization\n",
    "import matplotlib.pyplot as plt\n",
    "import numpy as np\n",
    "\n",
    "\n",
    "def f(x):\n",
    "    \"\"\"our 'black box' function\"\"\"\n",
    "    return np.sin(5*x) + 2*np.sin(-2*x)\n",
    "\n",
    "if __name__ == '__main__':\n",
    "    np.random.seed(0)\n",
    "    X_init = np.random.uniform(-np.pi, 2*np.pi, (2, 1))\n",
    "    Y_init = f(X_init)\n",
    "\n",
    "    bo = BO(f, X_init, Y_init, (-np.pi, 2*np.pi), 50, l=0.6, sigma_f=2, xsi=0.05)\n",
    "    X_next, EI = bo.acquisition()\n",
    "\n",
    "    print(EI)\n",
    "    print(X_next)\n",
    "\n",
    "    plt.scatter(X_init.reshape(-1), Y_init.reshape(-1), color='g')\n",
    "    plt.plot(bo.X_s.reshape(-1), EI.reshape(-1), color='r')\n",
    "    plt.axvline(x=X_next)\n",
    "    plt.show()"
   ]
  }
 ],
 "metadata": {
  "language_info": {
   "name": "python"
  }
 },
 "nbformat": 4,
 "nbformat_minor": 2
}
