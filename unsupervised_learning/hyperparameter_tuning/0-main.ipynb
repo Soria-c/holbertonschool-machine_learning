{
 "cells": [
  {
   "cell_type": "code",
   "execution_count": 1,
   "metadata": {},
   "outputs": [
    {
     "name": "stdout",
     "output_type": "stream",
     "text": [
      "True\n",
      "True\n",
      "0.6\n",
      "2\n",
      "(2, 2) [[4.         0.13150595]\n",
      " [0.13150595 4.        ]]\n",
      "True\n"
     ]
    }
   ],
   "source": [
    "#!/usr/bin/env python3\n",
    "\n",
    "GP = __import__('0-gp').GaussianProcess\n",
    "import numpy as np\n",
    "\n",
    "\n",
    "def f(x):\n",
    "    \"\"\"our 'black box' function\"\"\"\n",
    "    return np.sin(5*x) + 2*np.sin(-2*x)\n",
    "\n",
    "if __name__ == '__main__':\n",
    "    np.random.seed(0)\n",
    "    X_init = np.random.uniform(-np.pi, 2*np.pi, (2, 1))\n",
    "    Y_init = f(X_init)\n",
    "\n",
    "    gp = GP(X_init, Y_init, l=0.6, sigma_f=2)\n",
    "    print(gp.X is X_init)\n",
    "    print(gp.Y is Y_init)\n",
    "    print(gp.l)\n",
    "    print(gp.sigma_f)\n",
    "    print(gp.K.shape, gp.K)\n",
    "    print(np.allclose(gp.kernel(X_init, X_init), gp.K))"
   ]
  }
 ],
 "metadata": {
  "kernelspec": {
   "display_name": "Python 3",
   "language": "python",
   "name": "python3"
  },
  "language_info": {
   "codemirror_mode": {
    "name": "ipython",
    "version": 3
   },
   "file_extension": ".py",
   "mimetype": "text/x-python",
   "name": "python",
   "nbconvert_exporter": "python",
   "pygments_lexer": "ipython3",
   "version": "3.10.12"
  }
 },
 "nbformat": 4,
 "nbformat_minor": 2
}
