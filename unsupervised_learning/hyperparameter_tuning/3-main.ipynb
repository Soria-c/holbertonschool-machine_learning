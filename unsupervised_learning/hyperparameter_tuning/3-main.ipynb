{
 "cells": [
  {
   "cell_type": "code",
   "execution_count": null,
   "metadata": {},
   "outputs": [],
   "source": [
    "#!/usr/bin/env python3\n",
    "\n",
    "GP = __import__('2-gp').GaussianProcess\n",
    "BO = __import__('3-bayes_opt').BayesianOptimization\n",
    "import matplotlib.pyplot as plt\n",
    "import numpy as np\n",
    "\n",
    "\n",
    "def f(x):\n",
    "    \"\"\"our 'black box' function\"\"\"\n",
    "    return np.sin(5*x) + 2*np.sin(-2*x)\n",
    "\n",
    "if __name__ == '__main__':\n",
    "    np.random.seed(0)\n",
    "    X_init = np.random.uniform(-np.pi, 2*np.pi, (2, 1))\n",
    "    Y_init = f(X_init)\n",
    "\n",
    "    bo = BO(f, X_init, Y_init, (-np.pi, 2*np.pi), 50, l=2, sigma_f=3, xsi=0.05)\n",
    "    print(bo.f is f)\n",
    "    print(type(bo.gp) is GP)\n",
    "    print(bo.gp.X is X_init)\n",
    "    print(bo.gp.Y is Y_init)\n",
    "    print(bo.gp.l)\n",
    "    print(bo.gp.sigma_f)\n",
    "    print(bo.X_s.shape, bo.X_s)\n",
    "    print(bo.xsi)\n",
    "    print(bo.minimize)"
   ]
  }
 ],
 "metadata": {
  "language_info": {
   "name": "python"
  }
 },
 "nbformat": 4,
 "nbformat_minor": 2
}
