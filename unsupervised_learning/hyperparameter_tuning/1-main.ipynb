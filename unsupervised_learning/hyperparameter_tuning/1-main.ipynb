{
 "cells": [
  {
   "cell_type": "code",
   "execution_count": 1,
   "metadata": {},
   "outputs": [
    {
     "name": "stdout",
     "output_type": "stream",
     "text": [
      "(10,) [ 0.20148983  0.93469135  0.14512328 -0.99831012  0.21779183 -0.05063668\n",
      " -0.00116747  0.03434981 -1.15092063  0.9221554 ]\n",
      "(10,) [1.90890408 0.01512125 3.91606789 2.42958747 3.81083574 3.99817545\n",
      " 3.99999903 3.9953012  3.05639472 0.37179608]\n"
     ]
    }
   ],
   "source": [
    "#!/usr/bin/env python3\n",
    "\n",
    "GP = __import__('1-gp').GaussianProcess\n",
    "import numpy as np\n",
    "\n",
    "\n",
    "def f(x):\n",
    "    \"\"\"our 'black box' function\"\"\"\n",
    "    return np.sin(5*x) + 2*np.sin(-2*x)\n",
    "\n",
    "if __name__ == '__main__':\n",
    "    np.random.seed(0)\n",
    "    X_init = np.random.uniform(-np.pi, 2*np.pi, (2, 1))\n",
    "    Y_init = f(X_init)\n",
    "\n",
    "    gp = GP(X_init, Y_init, l=0.6, sigma_f=2)\n",
    "    X_s = np.random.uniform(-np.pi, 2*np.pi, (10, 1))\n",
    "    mu, sig = gp.predict(X_s)\n",
    "    print(mu.shape, mu)\n",
    "    print(sig.shape, sig)"
   ]
  }
 ],
 "metadata": {
  "kernelspec": {
   "display_name": "Python 3",
   "language": "python",
   "name": "python3"
  },
  "language_info": {
   "codemirror_mode": {
    "name": "ipython",
    "version": 3
   },
   "file_extension": ".py",
   "mimetype": "text/x-python",
   "name": "python",
   "nbconvert_exporter": "python",
   "pygments_lexer": "ipython3",
   "version": "3.10.12"
  }
 },
 "nbformat": 4,
 "nbformat_minor": 2
}
