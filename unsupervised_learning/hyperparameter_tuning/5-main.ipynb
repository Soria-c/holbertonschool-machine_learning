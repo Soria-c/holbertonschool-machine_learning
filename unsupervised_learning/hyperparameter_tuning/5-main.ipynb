{
 "cells": [
  {
   "cell_type": "code",
   "execution_count": 1,
   "metadata": {},
   "outputs": [
    {
     "name": "stdout",
     "output_type": "stream",
     "text": [
      "2\n",
      "21\n",
      "Optimal X: [0.8975979]\n",
      "Optimal Y: [-2.92478374]\n",
      "All sample inputs: [[ 2.03085276]\n",
      " [ 3.59890832]\n",
      " [ 4.55210364]\n",
      " [ 5.89850049]\n",
      " [-3.14159265]\n",
      " [-0.83348377]\n",
      " [ 0.70525549]\n",
      " [-2.17988062]\n",
      " [ 3.01336438]\n",
      " [ 3.97507642]\n",
      " [ 1.28228272]\n",
      " [ 5.12913086]\n",
      " [ 0.12822827]\n",
      " [ 6.28318531]\n",
      " [-1.60285339]\n",
      " [-2.75690784]\n",
      " [-2.56456543]\n",
      " [ 0.8975979 ]\n",
      " [ 2.43633716]\n",
      " [-0.44879895]\n",
      " [-2.94925025]]\n"
     ]
    },
    {
     "name": "stderr",
     "output_type": "stream",
     "text": [
      "/home/lugal/holbertonschool-machine_learning/unsupervised_learning/hyperparameter_tuning/5-bayes_opt.py:75: RuntimeWarning: divide by zero encountered in divide\n",
      "  Z = imp / sigma\n"
     ]
    }
   ],
   "source": [
    "#!/usr/bin/env python3\n",
    "\n",
    "BO = __import__('5-bayes_opt').BayesianOptimization\n",
    "import matplotlib.pyplot as plt\n",
    "import numpy as np\n",
    "\n",
    "\n",
    "def f(x):\n",
    "    \"\"\"our 'black box' function\"\"\"\n",
    "    return np.sin(5*x) + 2*np.sin(-2*x)\n",
    "\n",
    "if __name__ == '__main__':\n",
    "    np.random.seed(0)\n",
    "    X_init = np.random.uniform(-np.pi, 2*np.pi, (2, 1))\n",
    "    Y_init = f(X_init)\n",
    "\n",
    "    bo = BO(f, X_init, Y_init, (-np.pi, 2*np.pi), 50, l=0.6, sigma_f=2)\n",
    "    print(len(bo.gp.X))\n",
    "    X_opt, Y_opt = bo.optimize(50)\n",
    "    print(len(bo.gp.X))\n",
    "    print('Optimal X:', X_opt)\n",
    "    print('Optimal Y:', Y_opt)\n",
    "    print('All sample inputs:', bo.gp.X)"
   ]
  }
 ],
 "metadata": {
  "kernelspec": {
   "display_name": "Python 3",
   "language": "python",
   "name": "python3"
  },
  "language_info": {
   "codemirror_mode": {
    "name": "ipython",
    "version": 3
   },
   "file_extension": ".py",
   "mimetype": "text/x-python",
   "name": "python",
   "nbconvert_exporter": "python",
   "pygments_lexer": "ipython3",
   "version": "3.10.12"
  }
 },
 "nbformat": 4,
 "nbformat_minor": 2
}
