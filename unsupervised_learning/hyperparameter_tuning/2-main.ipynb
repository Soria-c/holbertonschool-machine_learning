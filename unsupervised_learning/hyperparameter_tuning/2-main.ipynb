{
 "cells": [
  {
   "cell_type": "code",
   "execution_count": 1,
   "metadata": {},
   "outputs": [
    {
     "name": "stdout",
     "output_type": "stream",
     "text": [
      "X_new: [2.53931833]\n",
      "Y_new: [1.99720866]\n",
      "(3, 1) [[2.03085276]\n",
      " [3.59890832]\n",
      " [2.53931833]]\n",
      "(3, 1) [[ 0.92485357]\n",
      " [-2.33925576]\n",
      " [ 1.99720866]]\n",
      "(3, 3) [[4.         0.13150595 2.79327536]\n",
      " [0.13150595 4.         0.84109203]\n",
      " [2.79327536 0.84109203 4.        ]]\n"
     ]
    }
   ],
   "source": [
    "#!/usr/bin/env python3\n",
    "\n",
    "GP = __import__('2-gp').GaussianProcess\n",
    "import numpy as np\n",
    "\n",
    "\n",
    "def f(x):\n",
    "    \"\"\"our 'black box' function\"\"\"\n",
    "    return np.sin(5*x) + 2*np.sin(-2*x)\n",
    "\n",
    "if __name__ == '__main__':\n",
    "    np.random.seed(0)\n",
    "    X_init = np.random.uniform(-np.pi, 2*np.pi, (2, 1))\n",
    "    Y_init = f(X_init)\n",
    "\n",
    "    gp = GP(X_init, Y_init, l=0.6, sigma_f=2)\n",
    "    X_new = np.random.uniform(-np.pi, 2*np.pi, 1)\n",
    "    print('X_new:', X_new)\n",
    "    Y_new = f(X_new)\n",
    "    print('Y_new:', Y_new)\n",
    "    gp.update(X_new, Y_new)\n",
    "    print(gp.X.shape, gp.X)\n",
    "    print(gp.Y.shape, gp.Y)\n",
    "    print(gp.K.shape, gp.K)"
   ]
  }
 ],
 "metadata": {
  "kernelspec": {
   "display_name": "Python 3",
   "language": "python",
   "name": "python3"
  },
  "language_info": {
   "codemirror_mode": {
    "name": "ipython",
    "version": 3
   },
   "file_extension": ".py",
   "mimetype": "text/x-python",
   "name": "python",
   "nbconvert_exporter": "python",
   "pygments_lexer": "ipython3",
   "version": "3.10.12"
  }
 },
 "nbformat": 4,
 "nbformat_minor": 2
}
