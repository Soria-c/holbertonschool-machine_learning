{
 "cells": [
  {
   "cell_type": "code",
   "execution_count": 1,
   "metadata": {},
   "outputs": [
    {
     "name": "stdout",
     "output_type": "stream",
     "text": [
      "[0.25 0.25 0.25 0.25]\n",
      "[[54.73711515 31.81393242]\n",
      " [16.84012557 31.20248225]\n",
      " [21.43215816 65.50449077]\n",
      " [32.3301925  41.80664127]]\n",
      "[[[1. 0.]\n",
      "  [0. 1.]]\n",
      "\n",
      " [[1. 0.]\n",
      "  [0. 1.]]\n",
      "\n",
      " [[1. 0.]\n",
      "  [0. 1.]]\n",
      "\n",
      " [[1. 0.]\n",
      "  [0. 1.]]]\n"
     ]
    }
   ],
   "source": [
    "#!/usr/bin/env python3\n",
    "\n",
    "import numpy as np\n",
    "initialize = __import__('4-initialize').initialize\n",
    "\n",
    "if __name__ == '__main__':\n",
    "    np.random.seed(11)\n",
    "    a = np.random.multivariate_normal([30, 40], [[75, 5], [5, 75]], size=10000)\n",
    "    b = np.random.multivariate_normal([5, 25], [[16, 10], [10, 16]], size=750)\n",
    "    c = np.random.multivariate_normal([60, 30], [[16, 0], [0, 16]], size=750)\n",
    "    d = np.random.multivariate_normal([20, 70], [[35, 10], [10, 35]], size=1000)\n",
    "    X = np.concatenate((a, b, c, d), axis=0)\n",
    "    np.random.shuffle(X)\n",
    "    pi, m, S = initialize(X, 4)\n",
    "    print(pi)\n",
    "    print(m)\n",
    "    print(S)"
   ]
  }
 ],
 "metadata": {
  "kernelspec": {
   "display_name": "Python 3",
   "language": "python",
   "name": "python3"
  },
  "language_info": {
   "codemirror_mode": {
    "name": "ipython",
    "version": 3
   },
   "file_extension": ".py",
   "mimetype": "text/x-python",
   "name": "python",
   "nbconvert_exporter": "python",
   "pygments_lexer": "ipython3",
   "version": "3.10.12"
  }
 },
 "nbformat": 4,
 "nbformat_minor": 2
}
