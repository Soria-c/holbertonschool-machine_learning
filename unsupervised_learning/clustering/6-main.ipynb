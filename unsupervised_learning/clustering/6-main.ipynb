{
 "cells": [
  {
   "cell_type": "code",
   "execution_count": 1,
   "metadata": {},
   "outputs": [
    {
     "name": "stdout",
     "output_type": "stream",
     "text": [
      "[[1.98542668e-055 1.00000000e+000 1.56526421e-185 ... 1.00000000e+000\n",
      "  3.70567311e-236 1.91892348e-012]\n",
      " [6.97883333e-085 2.28658376e-279 9.28518983e-065 ... 8.12227631e-287\n",
      "  1.53690661e-032 3.17417182e-181]\n",
      " [9.79811365e-234 2.28658376e-279 2.35073465e-095 ... 1.65904890e-298\n",
      "  9.62514613e-068 5.67072057e-183]\n",
      " [1.00000000e+000 7.21133039e-186 1.00000000e+000 ... 2.42138447e-125\n",
      "  1.00000000e+000 1.00000000e+000]]\n",
      "[1. 1. 1. ... 1. 1. 1.]\n",
      "-652797.7866541843\n"
     ]
    }
   ],
   "source": [
    "#!/usr/bin/env python3\n",
    "\n",
    "import numpy as np\n",
    "initialize = __import__('4-initialize').initialize\n",
    "expectation = __import__('6-expectation').expectation\n",
    "\n",
    "if __name__ == '__main__':\n",
    "    np.random.seed(11)\n",
    "    a = np.random.multivariate_normal([30, 40], [[75, 5], [5, 75]], size=10000)\n",
    "    b = np.random.multivariate_normal([5, 25], [[16, 10], [10, 16]], size=750)\n",
    "    c = np.random.multivariate_normal([60, 30], [[16, 0], [0, 16]], size=750)\n",
    "    d = np.random.multivariate_normal([20, 70], [[35, 10], [10, 35]], size=1000)\n",
    "    X = np.concatenate((a, b, c, d), axis=0)\n",
    "    np.random.shuffle(X)\n",
    "    pi, m, S = initialize(X, 4)\n",
    "    g, l = expectation(X, pi, m, S)\n",
    "    print(g)\n",
    "    print(np.sum(g, axis=0))\n",
    "    print(l)"
   ]
  }
 ],
 "metadata": {
  "kernelspec": {
   "display_name": "Python 3",
   "language": "python",
   "name": "python3"
  },
  "language_info": {
   "codemirror_mode": {
    "name": "ipython",
    "version": 3
   },
   "file_extension": ".py",
   "mimetype": "text/x-python",
   "name": "python",
   "nbconvert_exporter": "python",
   "pygments_lexer": "ipython3",
   "version": "3.10.12"
  }
 },
 "nbformat": 4,
 "nbformat_minor": 2
}
