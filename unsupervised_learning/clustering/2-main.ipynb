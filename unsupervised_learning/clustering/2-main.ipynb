{
 "cells": [
  {
   "cell_type": "code",
   "execution_count": 1,
   "metadata": {},
   "outputs": [
    {
     "name": "stdout",
     "output_type": "stream",
     "text": [
      "Variance with 1 clusters: 157927.7052\n",
      "Variance with 2 clusters: 82095.68297\n",
      "Variance with 3 clusters: 34784.23723\n",
      "Variance with 4 clusters: 23158.40095\n",
      "Variance with 5 clusters: 7868.52123\n",
      "Variance with 6 clusters: 7406.93077\n",
      "Variance with 7 clusters: 6930.66361\n",
      "Variance with 8 clusters: 6162.15884\n",
      "Variance with 9 clusters: 5934.81984\n",
      "Variance with 10 clusters: 5639.79152\n"
     ]
    }
   ],
   "source": [
    "#!/usr/bin/env python3\n",
    "\n",
    "import numpy as np\n",
    "kmeans = __import__('1-kmeans').kmeans\n",
    "variance = __import__('2-variance').variance\n",
    "\n",
    "if __name__ == \"__main__\":\n",
    "    np.random.seed(0)\n",
    "    a = np.random.multivariate_normal([30, 40], [[16, 0], [0, 16]], size=50)\n",
    "    b = np.random.multivariate_normal([10, 25], [[16, 0], [0, 16]], size=50)\n",
    "    c = np.random.multivariate_normal([40, 20], [[16, 0], [0, 16]], size=50)\n",
    "    d = np.random.multivariate_normal([60, 30], [[16, 0], [0, 16]], size=50)\n",
    "    e = np.random.multivariate_normal([20, 70], [[16, 0], [0, 16]], size=50)\n",
    "    X = np.concatenate((a, b, c, d, e), axis=0)\n",
    "    np.random.shuffle(X)\n",
    "\n",
    "    for k in range(1, 11):\n",
    "        C, _ = kmeans(X, k)\n",
    "        print('Variance with {} clusters: {}'.format(k, variance(X, C).round(5)))"
   ]
  }
 ],
 "metadata": {
  "kernelspec": {
   "display_name": "Python 3",
   "language": "python",
   "name": "python3"
  },
  "language_info": {
   "codemirror_mode": {
    "name": "ipython",
    "version": 3
   },
   "file_extension": ".py",
   "mimetype": "text/x-python",
   "name": "python",
   "nbconvert_exporter": "python",
   "pygments_lexer": "ipython3",
   "version": "3.10.12"
  }
 },
 "nbformat": 4,
 "nbformat_minor": 2
}
