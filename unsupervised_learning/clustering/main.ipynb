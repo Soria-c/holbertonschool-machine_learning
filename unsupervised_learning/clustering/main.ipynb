{
 "cells": [
  {
   "cell_type": "code",
   "execution_count": 2,
   "metadata": {},
   "outputs": [
    {
     "name": "stdout",
     "output_type": "stream",
     "text": [
      "[[ 1.13919349 46.10661566  7.0519495 ]\n",
      " [-2.01292265 47.35760007 -4.43391461]\n",
      " [ 8.96563372 39.59382658  7.51106974]\n",
      " ...\n",
      " [ 9.05272289 39.85932266  4.47272097]\n",
      " [12.39216481 36.88233254  7.6748657 ]\n",
      " [11.56731535 12.90689551 15.23323165]]\n",
      "None\n"
     ]
    }
   ],
   "source": [
    "#!/usr/bin/env python3\n",
    "\n",
    "import numpy as np\n",
    "pdf = __import__('5-pdf').pdf\n",
    "\n",
    "if __name__ == '__main__':\n",
    "    np.random.seed(0)\n",
    "    m = np.array([12, 30, 10])\n",
    "    S = np.array([[36, -30, 15], [-30, 100, -20], [15, -20, 25]])\n",
    "    X = np.random.multivariate_normal(m, S, 10000)\n",
    "    # print(X)\n",
    "    P = pdf(X, m, S)\n",
    "    print(P)"
   ]
  }
 ],
 "metadata": {
  "kernelspec": {
   "display_name": "Python 3",
   "language": "python",
   "name": "python3"
  },
  "language_info": {
   "codemirror_mode": {
    "name": "ipython",
    "version": 3
   },
   "file_extension": ".py",
   "mimetype": "text/x-python",
   "name": "python",
   "nbconvert_exporter": "python",
   "pygments_lexer": "ipython3",
   "version": "3.10.12"
  }
 },
 "nbformat": 4,
 "nbformat_minor": 2
}
