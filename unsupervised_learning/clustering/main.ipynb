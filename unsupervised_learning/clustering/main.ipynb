{
 "cells": [
  {
   "cell_type": "code",
   "execution_count": 1,
   "metadata": {},
   "outputs": [
    {
     "name": "stdout",
     "output_type": "stream",
     "text": [
      "(12500,)\n",
      "(4,)\n"
     ]
    },
    {
     "ename": "ValueError",
     "evalue": "operands could not be broadcast together with shapes (4,) (12500,) ",
     "output_type": "error",
     "traceback": [
      "\u001b[0;31m---------------------------------------------------------------------------\u001b[0m",
      "\u001b[0;31mValueError\u001b[0m                                Traceback (most recent call last)",
      "Cell \u001b[0;32mIn[1], line 16\u001b[0m\n\u001b[1;32m     14\u001b[0m np\u001b[38;5;241m.\u001b[39mrandom\u001b[38;5;241m.\u001b[39mshuffle(X)\n\u001b[1;32m     15\u001b[0m pi, m, S \u001b[38;5;241m=\u001b[39m initialize(X, \u001b[38;5;241m4\u001b[39m)\n\u001b[0;32m---> 16\u001b[0m g, l \u001b[38;5;241m=\u001b[39m \u001b[43mexpectation\u001b[49m\u001b[43m(\u001b[49m\u001b[43mX\u001b[49m\u001b[43m,\u001b[49m\u001b[43m \u001b[49m\u001b[43mpi\u001b[49m\u001b[43m,\u001b[49m\u001b[43m \u001b[49m\u001b[43mm\u001b[49m\u001b[43m,\u001b[49m\u001b[43m \u001b[49m\u001b[43mS\u001b[49m\u001b[43m)\u001b[49m\n\u001b[1;32m     17\u001b[0m \u001b[38;5;28mprint\u001b[39m(g)\n\u001b[1;32m     18\u001b[0m \u001b[38;5;28mprint\u001b[39m(np\u001b[38;5;241m.\u001b[39msum(g, axis\u001b[38;5;241m=\u001b[39m\u001b[38;5;241m0\u001b[39m))\n",
      "File \u001b[0;32m~/holbertonschool-machine_learning/unsupervised_learning/clustering/6-expectation.py:26\u001b[0m, in \u001b[0;36mexpectation\u001b[0;34m(X, pi, m, S)\u001b[0m\n\u001b[1;32m     24\u001b[0m \u001b[38;5;28mprint\u001b[39m(denm\u001b[38;5;241m.\u001b[39mshape)\n\u001b[1;32m     25\u001b[0m \u001b[38;5;28mprint\u001b[39m(pi\u001b[38;5;241m.\u001b[39mshape)\n\u001b[0;32m---> 26\u001b[0m g \u001b[38;5;241m=\u001b[39m \u001b[43mpi\u001b[49m\u001b[43m \u001b[49m\u001b[38;5;241;43m*\u001b[39;49m\u001b[43m \u001b[49m\u001b[43mdenm\u001b[49m \u001b[38;5;241m/\u001b[39m (pi \u001b[38;5;241m*\u001b[39m np\u001b[38;5;241m.\u001b[39msum(denm))\n\u001b[1;32m     27\u001b[0m l \u001b[38;5;241m=\u001b[39m denm\n\u001b[1;32m     28\u001b[0m \u001b[38;5;28;01mreturn\u001b[39;00m g, l\n",
      "\u001b[0;31mValueError\u001b[0m: operands could not be broadcast together with shapes (4,) (12500,) "
     ]
    }
   ],
   "source": [
    "#!/usr/bin/env python3\n",
    "\n",
    "import numpy as np\n",
    "initialize = __import__('4-initialize').initialize\n",
    "expectation = __import__('6-expectation').expectation\n",
    "\n",
    "if __name__ == '__main__':\n",
    "    np.random.seed(11)\n",
    "    a = np.random.multivariate_normal([30, 40], [[75, 5], [5, 75]], size=10000)\n",
    "    b = np.random.multivariate_normal([5, 25], [[16, 10], [10, 16]], size=750)\n",
    "    c = np.random.multivariate_normal([60, 30], [[16, 0], [0, 16]], size=750)\n",
    "    d = np.random.multivariate_normal([20, 70], [[35, 10], [10, 35]], size=1000)\n",
    "    X = np.concatenate((a, b, c, d), axis=0)\n",
    "    np.random.shuffle(X)\n",
    "    pi, m, S = initialize(X, 4)\n",
    "    g, l = expectation(X, pi, m, S)\n",
    "    print(g)\n",
    "    # print(np.sum(g, axis=0))\n",
    "    print(l)"
   ]
  }
 ],
 "metadata": {
  "kernelspec": {
   "display_name": "Python 3",
   "language": "python",
   "name": "python3"
  },
  "language_info": {
   "codemirror_mode": {
    "name": "ipython",
    "version": 3
   },
   "file_extension": ".py",
   "mimetype": "text/x-python",
   "name": "python",
   "nbconvert_exporter": "python",
   "pygments_lexer": "ipython3",
   "version": "3.10.12"
  }
 },
 "nbformat": 4,
 "nbformat_minor": 2
}
