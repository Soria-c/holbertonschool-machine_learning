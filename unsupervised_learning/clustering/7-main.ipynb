{
 "cells": [
  {
   "cell_type": "code",
   "execution_count": 1,
   "metadata": {},
   "outputs": [
    {
     "name": "stdout",
     "output_type": "stream",
     "text": [
      "[0.10104901 0.24748822 0.1193333  0.53212947]\n",
      "[[54.7440558  31.80888393]\n",
      " [16.84099873 31.20560148]\n",
      " [21.42588061 65.51441875]\n",
      " [32.33208369 41.80830251]]\n",
      "[[[64.05063663 -2.13941814]\n",
      "  [-2.13941814 41.90354928]]\n",
      "\n",
      " [[72.72404579  9.96322554]\n",
      "  [ 9.96322554 53.05035303]]\n",
      "\n",
      " [[46.20933259  1.08979413]\n",
      "  [ 1.08979413 66.9841323 ]]\n",
      "\n",
      " [[35.04054823 -0.94790014]\n",
      "  [-0.94790014 45.14948772]]]\n"
     ]
    }
   ],
   "source": [
    "#!/usr/bin/env python3\n",
    "\n",
    "import numpy as np\n",
    "initialize = __import__('4-initialize').initialize\n",
    "expectation = __import__('6-expectation').expectation\n",
    "maximization = __import__('7-maximization').maximization\n",
    "\n",
    "if __name__ == '__main__':\n",
    "    np.random.seed(11)\n",
    "    a = np.random.multivariate_normal([30, 40], [[75, 5], [5, 75]], size=10000)\n",
    "    b = np.random.multivariate_normal([5, 25], [[16, 10], [10, 16]], size=750)\n",
    "    c = np.random.multivariate_normal([60, 30], [[16, 0], [0, 16]], size=750)\n",
    "    d = np.random.multivariate_normal([20, 70], [[35, 10], [10, 35]], size=1000)\n",
    "    X = np.concatenate((a, b, c, d), axis=0)\n",
    "    np.random.shuffle(X)\n",
    "    pi, m, S = initialize(X, 4)\n",
    "    g, _ = expectation(X, pi, m, S)\n",
    "    pi, m, S = maximization(X, g)\n",
    "    print(pi)\n",
    "    print(m)\n",
    "    print(S)"
   ]
  }
 ],
 "metadata": {
  "kernelspec": {
   "display_name": "Python 3",
   "language": "python",
   "name": "python3"
  },
  "language_info": {
   "codemirror_mode": {
    "name": "ipython",
    "version": 3
   },
   "file_extension": ".py",
   "mimetype": "text/x-python",
   "name": "python",
   "nbconvert_exporter": "python",
   "pygments_lexer": "ipython3",
   "version": "3.10.12"
  }
 },
 "nbformat": 4,
 "nbformat_minor": 2
}
