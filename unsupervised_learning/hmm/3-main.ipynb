{
 "cells": [
  {
   "cell_type": "code",
   "execution_count": 1,
   "metadata": {},
   "outputs": [
    {
     "name": "stdout",
     "output_type": "stream",
     "text": [
      "[[0.6  0.39 0.01 0.   0.  ]\n",
      " [0.2  0.5  0.3  0.   0.  ]\n",
      " [0.01 0.24 0.5  0.24 0.01]\n",
      " [0.   0.   0.15 0.7  0.15]\n",
      " [0.   0.   0.01 0.39 0.6 ]]\n",
      "[[0.9  0.1  0.   0.   0.   0.  ]\n",
      " [0.4  0.5  0.1  0.   0.   0.  ]\n",
      " [0.   0.25 0.5  0.25 0.   0.  ]\n",
      " [0.   0.   0.05 0.7  0.15 0.1 ]\n",
      " [0.   0.   0.   0.2  0.5  0.3 ]]\n",
      "[0.05 0.2  0.5  0.2  0.05]\n"
     ]
    }
   ],
   "source": [
    "#!/usr/bin/env python3\n",
    "\n",
    "import numpy as np\n",
    "# forward = __import__('3-forward').forward\n",
    "\n",
    "if __name__ == '__main__':\n",
    "    np.random.seed(1)\n",
    "    Emission = np.array([[0.90, 0.10, 0.00, 0.00, 0.00, 0.00],\n",
    "                         [0.40, 0.50, 0.10, 0.00, 0.00, 0.00],\n",
    "                         [0.00, 0.25, 0.50, 0.25, 0.00, 0.00],\n",
    "                         [0.00, 0.00, 0.05, 0.70, 0.15, 0.10],\n",
    "                         [0.00, 0.00, 0.00, 0.20, 0.50, 0.30]])\n",
    "    Transition = np.array([[0.60, 0.39, 0.01, 0.00, 0.00],\n",
    "                           [0.20, 0.50, 0.30, 0.00, 0.00],\n",
    "                           [0.01, 0.24, 0.50, 0.24, 0.01],\n",
    "                           [0.00, 0.00, 0.15, 0.70, 0.15],\n",
    "                           [0.00, 0.00, 0.01, 0.39, 0.60]])\n",
    "    Initial = np.array([0.05, 0.20, 0.50, 0.20, 0.05])\n",
    "    Hidden = [np.random.choice(5, p=Initial)]\n",
    "    for _ in range(364):\n",
    "        Hidden.append(np.random.choice(5, p=Transition[Hidden[-1]]))\n",
    "    Hidden = np.array(Hidden)\n",
    "    Observations = []\n",
    "    for s in Hidden:\n",
    "        Observations.append(np.random.choice(6, p=Emission[s]))\n",
    "    Observations = np.array(Observations)\n",
    "    print(Transition)\n",
    "    print(Emission)\n",
    "    print(Initial)\n",
    "    print(Observations)\n",
    "    # P, F = forward(Observations, Emission, Transition, Initial.reshape((-1, 1)))\n",
    "    # print(P)\n",
    "    # print(F)"
   ]
  }
 ],
 "metadata": {
  "kernelspec": {
   "display_name": "Python 3",
   "language": "python",
   "name": "python3"
  },
  "language_info": {
   "codemirror_mode": {
    "name": "ipython",
    "version": 3
   },
   "file_extension": ".py",
   "mimetype": "text/x-python",
   "name": "python",
   "nbconvert_exporter": "python",
   "pygments_lexer": "ipython3",
   "version": "3.10.12"
  }
 },
 "nbformat": 4,
 "nbformat_minor": 2
}
