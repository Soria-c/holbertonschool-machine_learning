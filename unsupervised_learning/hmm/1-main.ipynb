{
 "cells": [
  {
   "cell_type": "code",
   "execution_count": 1,
   "metadata": {},
   "outputs": [
    {
     "name": "stdout",
     "output_type": "stream",
     "text": [
      "None\n",
      "[0.42857143 0.57142857]\n",
      "[0.2494929  0.26335362 0.23394185 0.25321163]\n",
      "None\n",
      "None\n"
     ]
    }
   ],
   "source": [
    "#!/usr/bin/env python3\n",
    "\n",
    "import numpy as np\n",
    "regular = __import__('1-regular').regular\n",
    "\n",
    "if __name__ == '__main__':\n",
    "    a = np.eye(2)\n",
    "    b = np.array([[0.6, 0.4],\n",
    "                  [0.3, 0.7]])\n",
    "    c = np.array([[0.25, 0.2, 0.25, 0.3],\n",
    "                  [0.2, 0.3, 0.2, 0.3],\n",
    "                  [0.25, 0.25, 0.4, 0.1],\n",
    "                  [0.3, 0.3, 0.1, 0.3]])\n",
    "    d = np.array([[0.8, 0.2, 0, 0, 0],\n",
    "                [0.25, 0.75, 0, 0, 0],\n",
    "                [0, 0, 0.5, 0.2, 0.3],\n",
    "                [0, 0, 0.3, 0.5, .2],\n",
    "                [0, 0, 0.2, 0.3, 0.5]])\n",
    "    e = np.array([[1, 0.25, 0, 0, 0],\n",
    "                [0.25, 0.75, 0, 0, 0],\n",
    "                [0, 0.1, 0.5, 0.2, 0.2],\n",
    "                [0, 0.1, 0.2, 0.5, .2],\n",
    "                [0, 0.1, 0.2, 0.2, 0.5]])\n",
    "    print(regular(a))\n",
    "    print(regular(b))\n",
    "    print(regular(c))\n",
    "    print(regular(d))\n",
    "    print(regular(e))"
   ]
  }
 ],
 "metadata": {
  "kernelspec": {
   "display_name": "Python 3",
   "language": "python",
   "name": "python3"
  },
  "language_info": {
   "codemirror_mode": {
    "name": "ipython",
    "version": 3
   },
   "file_extension": ".py",
   "mimetype": "text/x-python",
   "name": "python",
   "nbconvert_exporter": "python",
   "pygments_lexer": "ipython3",
   "version": "3.10.12"
  }
 },
 "nbformat": 4,
 "nbformat_minor": 2
}
