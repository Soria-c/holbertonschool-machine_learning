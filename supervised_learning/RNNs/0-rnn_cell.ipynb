{
 "cells": [
  {
   "cell_type": "code",
   "execution_count": null,
   "metadata": {},
   "outputs": [],
   "source": [
    "#!/usr/bin/env python3\n",
    "\n",
    "import numpy as np\n",
    "RNNCell = __import__('0-rnn_cell').RNNCell\n",
    "\n",
    "np.random.seed(0)\n",
    "rnn_cell = RNNCell(10, 15, 5)\n",
    "print(\"Wh:\", rnn_cell.Wh)\n",
    "print(\"Wy:\", rnn_cell.Wy)\n",
    "print(\"bh:\", rnn_cell.bh)\n",
    "print(\"by:\", rnn_cell.by)\n",
    "rnn_cell.bh = np.random.randn(1, 15)\n",
    "rnn_cell.by = np.random.randn(1, 5)\n",
    "h_prev = np.random.randn(8, 15)\n",
    "x_t = np.random.randn(8, 10)\n",
    "h, y = rnn_cell.forward(h_prev, x_t)\n",
    "print(h.shape)\n",
    "print(h)\n",
    "print(y.shape)\n",
    "print(y)"
   ]
  }
 ],
 "metadata": {
  "language_info": {
   "name": "python"
  }
 },
 "nbformat": 4,
 "nbformat_minor": 2
}
