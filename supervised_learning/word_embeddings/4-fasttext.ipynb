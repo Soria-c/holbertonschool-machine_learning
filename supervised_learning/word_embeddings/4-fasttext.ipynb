{
 "cells": [
  {
   "cell_type": "code",
   "execution_count": null,
   "metadata": {},
   "outputs": [],
   "source": [
    "#!/usr/bin/env python3\n",
    "\n",
    "from gensim.test.utils import common_texts\n",
    "fasttext_model = __import__('4-fasttext').fasttext_model\n",
    "\n",
    "print(common_texts[:2])\n",
    "ft = fasttext_model(common_texts, min_count=1)\n",
    "print(ft.wv[\"computer\"])"
   ]
  }
 ],
 "metadata": {
  "language_info": {
   "name": "python"
  }
 },
 "nbformat": 4,
 "nbformat_minor": 2
}
