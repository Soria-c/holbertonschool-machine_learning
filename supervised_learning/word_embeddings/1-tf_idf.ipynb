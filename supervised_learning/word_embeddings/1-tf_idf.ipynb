{
 "cells": [
  {
   "cell_type": "code",
   "execution_count": 1,
   "metadata": {},
   "outputs": [
    {
     "name": "stdout",
     "output_type": "stream",
     "text": [
      "[[1.         0.         0.         0.         0.         0.\n",
      "  0.        ]\n",
      " [0.5098139  0.60831315 0.         0.         0.         0.\n",
      "  0.60831315]\n",
      " [0.         0.         0.         0.         0.         0.\n",
      "  0.        ]\n",
      " [0.         0.         1.         0.         0.         0.\n",
      "  0.        ]\n",
      " [0.         0.         1.         0.         0.         0.\n",
      "  0.        ]\n",
      " [0.         0.         0.         0.70710678 0.70710678 0.\n",
      "  0.        ]\n",
      " [0.         0.         0.         0.70710678 0.70710678 0.\n",
      "  0.        ]\n",
      " [0.         0.         0.         0.         0.         0.\n",
      "  0.        ]]\n",
      "['awesome' 'learning' 'children' 'cake' 'good' 'none' 'machine']\n"
     ]
    }
   ],
   "source": [
    "#!/usr/bin/env python3\n",
    "\n",
    "tf_idf = __import__('1-tf_idf').tf_idf\n",
    "\n",
    "sentences = [\"Holberton school is Awesome!\",\n",
    "             \"Machine learning is awesome\",\n",
    "             \"NLP is the future!\",\n",
    "             \"The children are our future\",\n",
    "             \"Our children's children are our grandchildren\",\n",
    "             \"The cake was not very good\",\n",
    "             \"No one said that the cake was not very good\",\n",
    "             \"Life is beautiful\"]\n",
    "vocab = [\"awesome\", \"learning\", \"children\", \"cake\", \"good\", \"none\", \"machine\"]\n",
    "E, F = tf_idf(sentences, vocab)\n",
    "print(E)\n",
    "print(F)"
   ]
  }
 ],
 "metadata": {
  "kernelspec": {
   "display_name": "ml",
   "language": "python",
   "name": "python3"
  },
  "language_info": {
   "codemirror_mode": {
    "name": "ipython",
    "version": 3
   },
   "file_extension": ".py",
   "mimetype": "text/x-python",
   "name": "python",
   "nbconvert_exporter": "python",
   "pygments_lexer": "ipython3",
   "version": "3.12.6"
  }
 },
 "nbformat": 4,
 "nbformat_minor": 2
}
