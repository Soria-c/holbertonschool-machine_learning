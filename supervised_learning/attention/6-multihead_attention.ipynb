{
 "cells": [
  {
   "cell_type": "code",
   "execution_count": null,
   "metadata": {},
   "outputs": [],
   "source": [
    "#!/usr/bin/env python3\n",
    "\n",
    "import os\n",
    "import random\n",
    "import numpy as np\n",
    "import tensorflow as tf\n",
    "MultiHeadAttention = __import__('6-multihead_attention').MultiHeadAttention\n",
    "\n",
    "SEED = 0\n",
    "\n",
    "os.environ['PYTHONHASHSEED'] = str(SEED)\n",
    "os.environ['TF_ENABLE_ONEDNN_OPTS']= '0'\n",
    "random.seed(SEED)\n",
    "np.random.seed(SEED)\n",
    "tf.random.set_seed(SEED)\n",
    "\n",
    "mha = MultiHeadAttention(512, 8)\n",
    "print(mha.dm)\n",
    "print(mha.h)\n",
    "print(mha.depth)\n",
    "print(mha.Wq)\n",
    "print(mha.Wk)\n",
    "print(mha.Wv)\n",
    "print(mha.linear)\n",
    "Q = tf.convert_to_tensor(np.random.uniform(size=(50, 15, 256)).astype('float32'))\n",
    "K = tf.convert_to_tensor(np.random.uniform(size=(50, 15, 256)).astype('float32'))\n",
    "V = tf.convert_to_tensor(np.random.uniform(size=(50, 15, 256)).astype('float32'))\n",
    "output, weights = mha(Q, K, V, None)\n",
    "print(output)\n",
    "print(weights)"
   ]
  }
 ],
 "metadata": {
  "language_info": {
   "name": "python"
  }
 },
 "nbformat": 4,
 "nbformat_minor": 2
}
