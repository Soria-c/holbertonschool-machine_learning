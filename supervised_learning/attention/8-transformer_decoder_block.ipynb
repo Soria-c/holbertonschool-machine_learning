{
 "cells": [
  {
   "cell_type": "code",
   "execution_count": null,
   "metadata": {},
   "outputs": [],
   "source": [
    "#!/usr/bin/env python3\n",
    "\n",
    "import os\n",
    "import random\n",
    "import numpy as np\n",
    "import tensorflow as tf\n",
    "DecoderBlock = __import__('8-transformer_decoder_block').DecoderBlock\n",
    "\n",
    "SEED = 0\n",
    "\n",
    "os.environ['PYTHONHASHSEED'] = str(SEED)\n",
    "os.environ['TF_ENABLE_ONEDNN_OPTS']= '0'\n",
    "random.seed(SEED)\n",
    "np.random.seed(SEED)\n",
    "tf.random.set_seed(SEED)\n",
    "\n",
    "dblock = DecoderBlock(512, 8, 2048)\n",
    "print(dblock.mha1)\n",
    "print(dblock.mha2)\n",
    "print(dblock.dense_hidden)\n",
    "print(dblock.dense_output)\n",
    "print(dblock.layernorm1)\n",
    "print(dblock.layernorm2)\n",
    "print(dblock.layernorm3)\n",
    "print(dblock.dropout1)\n",
    "print(dblock.dropout2)\n",
    "print(dblock.dropout3)\n",
    "x = tf.random.uniform((32, 15, 512))\n",
    "hidden_states = tf.random.uniform((32, 10, 512))\n",
    "output = dblock(x, hidden_states, False, None, None)\n",
    "print(output)"
   ]
  }
 ],
 "metadata": {
  "language_info": {
   "name": "python"
  }
 },
 "nbformat": 4,
 "nbformat_minor": 2
}
