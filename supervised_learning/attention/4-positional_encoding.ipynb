{
 "cells": [
  {
   "cell_type": "code",
   "execution_count": null,
   "metadata": {},
   "outputs": [],
   "source": [
    "#!/usr/bin/env python3\n",
    "\n",
    "import numpy as np\n",
    "positional_encoding = __import__('4-positional_encoding').positional_encoding\n",
    "\n",
    "PE = positional_encoding(30, 512)\n",
    "print(PE.shape)\n",
    "print(PE)"
   ]
  }
 ],
 "metadata": {
  "language_info": {
   "name": "python"
  }
 },
 "nbformat": 4,
 "nbformat_minor": 2
}
