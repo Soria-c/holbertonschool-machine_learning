{
 "cells": [
  {
   "cell_type": "code",
   "execution_count": 1,
   "metadata": {},
   "outputs": [
    {
     "name": "stdout",
     "output_type": "stream",
     "text": [
      "(30, 512)\n",
      "[[ 0.00000000e+00  1.00000000e+00  0.00000000e+00 ...  1.00000000e+00\n",
      "   0.00000000e+00  1.00000000e+00]\n",
      " [ 8.41470985e-01  5.40302306e-01  8.21856190e-01 ...  9.99999994e-01\n",
      "   1.03663293e-04  9.99999995e-01]\n",
      " [ 9.09297427e-01 -4.16146837e-01  9.36414739e-01 ...  9.99999977e-01\n",
      "   2.07326584e-04  9.99999979e-01]\n",
      " ...\n",
      " [ 9.56375928e-01 -2.92138809e-01  7.91416314e-01 ...  9.99995791e-01\n",
      "   2.79890525e-03  9.99996083e-01]\n",
      " [ 2.70905788e-01 -9.62605866e-01  9.53248145e-01 ...  9.99995473e-01\n",
      "   2.90256812e-03  9.99995788e-01]\n",
      " [-6.63633884e-01 -7.48057530e-01  2.94705106e-01 ...  9.99995144e-01\n",
      "   3.00623096e-03  9.99995481e-01]]\n"
     ]
    }
   ],
   "source": [
    "#!/usr/bin/env python3\n",
    "\n",
    "import numpy as np\n",
    "positional_encoding = __import__('4-positional_encoding').positional_encoding\n",
    "\n",
    "PE = positional_encoding(30, 512)\n",
    "print(PE.shape)\n",
    "print(PE)"
   ]
  }
 ],
 "metadata": {
  "kernelspec": {
   "display_name": "ml",
   "language": "python",
   "name": "python3"
  },
  "language_info": {
   "codemirror_mode": {
    "name": "ipython",
    "version": 3
   },
   "file_extension": ".py",
   "mimetype": "text/x-python",
   "name": "python",
   "nbconvert_exporter": "python",
   "pygments_lexer": "ipython3",
   "version": "3.12.6"
  }
 },
 "nbformat": 4,
 "nbformat_minor": 2
}
