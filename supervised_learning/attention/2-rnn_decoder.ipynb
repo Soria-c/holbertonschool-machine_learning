{
 "cells": [
  {
   "cell_type": "code",
   "execution_count": 1,
   "metadata": {},
   "outputs": [
    {
     "name": "stderr",
     "output_type": "stream",
     "text": [
      "2024-09-29 15:10:05.430988: I tensorflow/core/platform/cpu_feature_guard.cc:210] This TensorFlow binary is optimized to use available CPU instructions in performance-critical operations.\n",
      "To enable the following instructions: AVX2 FMA, in other operations, rebuild TensorFlow with the appropriate compiler flags.\n"
     ]
    },
    {
     "name": "stdout",
     "output_type": "stream",
     "text": [
      "<Embedding name=embedding, built=False>\n",
      "<GRU name=gru, built=False>\n",
      "<Dense name=dense, built=False>\n",
      "tf.Tensor(\n",
      "[[-0.14318827  0.00072012  0.084295   ...  0.12106881 -0.06022361\n",
      "  -0.19470224]\n",
      " [-0.09853622 -0.12366752  0.08909695 ... -0.06920794  0.01451936\n",
      "  -0.1683531 ]\n",
      " [-0.09698429 -0.08590972  0.2143571  ...  0.12582625 -0.09047551\n",
      "  -0.29103905]\n",
      " ...\n",
      " [-0.07058558 -0.05442111  0.13356484 ... -0.04940058 -0.0662329\n",
      "  -0.18425547]\n",
      " [-0.13282098 -0.06005908  0.10198013 ...  0.01711332 -0.06191587\n",
      "  -0.33217463]\n",
      " [-0.07984157 -0.01447528  0.12431507 ...  0.06135986 -0.01800688\n",
      "  -0.30630186]], shape=(32, 2048), dtype=float32)\n",
      "tf.Tensor(\n",
      "[[ 0.02317231  0.32790598  0.3275424  ...  0.14126053  0.34120008\n",
      "   0.73956263]\n",
      " [ 0.18480329  0.36356226  0.01995335 ...  0.19829775  0.25867867\n",
      "   0.78095365]\n",
      " [ 0.04182059  0.08092174 -0.22116885 ...  0.08800267  0.1694616\n",
      "   0.73374104]\n",
      " ...\n",
      " [ 0.25040704  0.09696343  0.21777001 ...  0.2441807   0.12295078\n",
      "   0.26898533]\n",
      " [ 0.4716109   0.37850872  0.10898539 ...  0.03497823  0.20795155\n",
      "   0.6543953 ]\n",
      " [ 0.23648116  0.27117983  0.01451946 ...  0.18720141  0.21080169\n",
      "   0.20708838]], shape=(32, 256), dtype=float32)\n"
     ]
    }
   ],
   "source": [
    "#!/usr/bin/env python3\n",
    "\n",
    "import os\n",
    "import random\n",
    "import numpy as np\n",
    "import tensorflow as tf\n",
    "RNNDecoder = __import__('2-rnn_decoder').RNNDecoder\n",
    "\n",
    "SEED = 0\n",
    "\n",
    "os.environ['PYTHONHASHSEED'] = str(SEED)\n",
    "os.environ['TF_ENABLE_ONEDNN_OPTS']= '0'\n",
    "random.seed(SEED)\n",
    "np.random.seed(SEED)\n",
    "tf.random.set_seed(SEED)\n",
    "\n",
    "decoder = RNNDecoder(2048, 128, 256, 32)\n",
    "print(decoder.embedding)\n",
    "print(decoder.gru)\n",
    "print(decoder.F)\n",
    "x = tf.convert_to_tensor(np.random.choice(2048, 32).reshape((32, 1)))\n",
    "s_prev = tf.convert_to_tensor(np.random.uniform(size=(32, 256)).astype('float32'))\n",
    "hidden_states = tf.convert_to_tensor(np.random.uniform(size=(32, 10, 256)).astype('float32'))\n",
    "y, s = decoder(x, s_prev, hidden_states)\n",
    "print(y)\n",
    "print(s)"
   ]
  }
 ],
 "metadata": {
  "kernelspec": {
   "display_name": "ml",
   "language": "python",
   "name": "python3"
  },
  "language_info": {
   "codemirror_mode": {
    "name": "ipython",
    "version": 3
   },
   "file_extension": ".py",
   "mimetype": "text/x-python",
   "name": "python",
   "nbconvert_exporter": "python",
   "pygments_lexer": "ipython3",
   "version": "3.12.6"
  }
 },
 "nbformat": 4,
 "nbformat_minor": 2
}
