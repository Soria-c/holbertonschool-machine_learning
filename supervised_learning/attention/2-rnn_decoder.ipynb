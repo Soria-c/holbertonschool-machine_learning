{
 "cells": [
  {
   "cell_type": "code",
   "execution_count": 1,
   "metadata": {},
   "outputs": [
    {
     "name": "stderr",
     "output_type": "stream",
     "text": [
      "2024-09-29 15:10:54.708651: I tensorflow/core/platform/cpu_feature_guard.cc:210] This TensorFlow binary is optimized to use available CPU instructions in performance-critical operations.\n",
      "To enable the following instructions: AVX2 FMA, in other operations, rebuild TensorFlow with the appropriate compiler flags.\n"
     ]
    },
    {
     "name": "stdout",
     "output_type": "stream",
     "text": [
      "<Embedding name=embedding, built=False>\n",
      "<GRU name=gru, built=False>\n",
      "<Dense name=dense, built=False>\n",
      "tf.Tensor(\n",
      "[[-0.0263578  -0.02630278  0.01819245 ... -0.03591888 -0.01943689\n",
      "  -0.02647316]\n",
      " [-0.01185698 -0.05455757  0.00794199 ... -0.05826804 -0.01195296\n",
      "  -0.03076382]\n",
      " [-0.00497926 -0.05296345 -0.00553976 ... -0.07622256 -0.01848217\n",
      "  -0.04680112]\n",
      " ...\n",
      " [-0.00785099 -0.05046848  0.0146926  ... -0.05776213 -0.00992826\n",
      "  -0.01855853]\n",
      " [-0.02119925 -0.0384422  -0.01172195 ... -0.0531288  -0.0115034\n",
      "  -0.0104412 ]\n",
      " [-0.01122355 -0.03415192  0.01099102 ... -0.05595644 -0.00847934\n",
      "  -0.01025418]], shape=(32, 2048), dtype=float32)\n",
      "tf.Tensor(\n",
      "[[-0.01768333  0.0437395  -0.05551887 ... -0.22164698 -0.05863323\n",
      "   0.21363531]\n",
      " [-0.02813597  0.03434653 -0.12326702 ... -0.19389144 -0.01066898\n",
      "   0.2640493 ]\n",
      " [-0.01823206  0.00940067 -0.05635544 ... -0.17805076 -0.09303997\n",
      "   0.253222  ]\n",
      " ...\n",
      " [-0.04887053  0.00479331 -0.09094635 ... -0.1903028  -0.04914688\n",
      "   0.29545182]\n",
      " [-0.03565704  0.00199213 -0.14045559 ... -0.21247046 -0.10916129\n",
      "   0.23889937]\n",
      " [-0.050154    0.01638344 -0.08304978 ... -0.23071608 -0.06676285\n",
      "   0.2332622 ]], shape=(32, 256), dtype=float32)\n"
     ]
    }
   ],
   "source": [
    "#!/usr/bin/env python3\n",
    "\n",
    "import os\n",
    "import random\n",
    "import numpy as np\n",
    "import tensorflow as tf\n",
    "RNNDecoder = __import__('2-rnn_decoder').RNNDecoder\n",
    "\n",
    "SEED = 0\n",
    "\n",
    "os.environ['PYTHONHASHSEED'] = str(SEED)\n",
    "os.environ['TF_ENABLE_ONEDNN_OPTS']= '0'\n",
    "random.seed(SEED)\n",
    "np.random.seed(SEED)\n",
    "tf.random.set_seed(SEED)\n",
    "\n",
    "decoder = RNNDecoder(2048, 128, 256, 32)\n",
    "print(decoder.embedding)\n",
    "print(decoder.gru)\n",
    "print(decoder.F)\n",
    "x = tf.convert_to_tensor(np.random.choice(2048, 32).reshape((32, 1)))\n",
    "s_prev = tf.convert_to_tensor(np.random.uniform(size=(32, 256)).astype('float32'))\n",
    "hidden_states = tf.convert_to_tensor(np.random.uniform(size=(32, 10, 256)).astype('float32'))\n",
    "y, s = decoder(x, s_prev, hidden_states)\n",
    "print(y)\n",
    "print(s)"
   ]
  }
 ],
 "metadata": {
  "kernelspec": {
   "display_name": "ml",
   "language": "python",
   "name": "python3"
  },
  "language_info": {
   "codemirror_mode": {
    "name": "ipython",
    "version": 3
   },
   "file_extension": ".py",
   "mimetype": "text/x-python",
   "name": "python",
   "nbconvert_exporter": "python",
   "pygments_lexer": "ipython3",
   "version": "3.12.6"
  }
 },
 "nbformat": 4,
 "nbformat_minor": 2
}
