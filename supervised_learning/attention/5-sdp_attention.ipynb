{
 "cells": [
  {
   "cell_type": "code",
   "execution_count": null,
   "metadata": {},
   "outputs": [],
   "source": [
    "#!/usr/bin/env python3\n",
    "\n",
    "import os\n",
    "import random\n",
    "import numpy as np\n",
    "import tensorflow as tf\n",
    "sdp_attention = __import__('5-sdp_attention').sdp_attention\n",
    "\n",
    "SEED = 0\n",
    "\n",
    "os.environ['PYTHONHASHSEED'] = str(SEED)\n",
    "os.environ['TF_ENABLE_ONEDNN_OPTS']= '0'\n",
    "random.seed(SEED)\n",
    "np.random.seed(SEED)\n",
    "tf.random.set_seed(SEED)\n",
    "\n",
    "Q = tf.convert_to_tensor(np.random.uniform(size=(50, 10, 256)).astype('float32'))\n",
    "K = tf.convert_to_tensor(np.random.uniform(size=(50, 15, 256)).astype('float32'))\n",
    "V = tf.convert_to_tensor(np.random.uniform(size=(50, 15, 512)).astype('float32'))\n",
    "output, weights = sdp_attention(Q, K, V)\n",
    "print(output)\n",
    "print(weights)"
   ]
  }
 ],
 "metadata": {
  "language_info": {
   "name": "python"
  }
 },
 "nbformat": 4,
 "nbformat_minor": 2
}
