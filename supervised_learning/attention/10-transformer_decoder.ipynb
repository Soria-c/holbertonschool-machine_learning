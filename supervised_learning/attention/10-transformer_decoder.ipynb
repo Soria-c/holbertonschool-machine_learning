{
 "cells": [
  {
   "cell_type": "code",
   "execution_count": null,
   "metadata": {},
   "outputs": [],
   "source": [
    "#!/usr/bin/env python3\n",
    "\n",
    "import os\n",
    "import random\n",
    "import numpy as np\n",
    "import tensorflow as tf\n",
    "Decoder = __import__('10-transformer_decoder').Decoder\n",
    "\n",
    "SEED = 0\n",
    "\n",
    "os.environ['PYTHONHASHSEED'] = str(SEED)\n",
    "os.environ['TF_ENABLE_ONEDNN_OPTS']= '0'\n",
    "random.seed(SEED)\n",
    "np.random.seed(SEED)\n",
    "tf.random.set_seed(SEED)\n",
    "\n",
    "decoder = Decoder(6, 512, 8, 2048, 12000, 1500)\n",
    "print(decoder.dm)\n",
    "print(decoder.N)\n",
    "print(decoder.embedding)\n",
    "print(decoder.positional_encoding)\n",
    "print(decoder.blocks)\n",
    "print(decoder.dropout)\n",
    "x = tf.random.uniform((32, 15))\n",
    "hidden_states = tf.random.uniform((32, 10, 512))\n",
    "output = decoder(x, hidden_states, True, None, None)\n",
    "print(output)"
   ]
  }
 ],
 "metadata": {
  "language_info": {
   "name": "python"
  }
 },
 "nbformat": 4,
 "nbformat_minor": 2
}
