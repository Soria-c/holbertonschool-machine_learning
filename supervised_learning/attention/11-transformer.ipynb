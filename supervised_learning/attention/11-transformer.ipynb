{
 "cells": [
  {
   "cell_type": "code",
   "execution_count": null,
   "metadata": {},
   "outputs": [],
   "source": [
    "#!/usr/bin/env python3\n",
    "\n",
    "import os\n",
    "import random\n",
    "import numpy as np\n",
    "import tensorflow as tf\n",
    "Transformer = __import__('11-transformer').Transformer\n",
    "\n",
    "SEED = 0\n",
    "\n",
    "os.environ['PYTHONHASHSEED'] = str(SEED)\n",
    "os.environ['TF_ENABLE_ONEDNN_OPTS']= '0'\n",
    "random.seed(SEED)\n",
    "np.random.seed(SEED)\n",
    "tf.random.set_seed(SEED)\n",
    "\n",
    "transformer = Transformer(6, 512, 8, 2048, 10000, 12000, 1000, 1500)\n",
    "print(transformer.encoder)\n",
    "print(transformer.decoder)\n",
    "print(transformer.linear)\n",
    "x = tf.random.uniform((32, 10))\n",
    "y = tf.random.uniform((32, 15))\n",
    "output = transformer(x, y, True, None, None, None)\n",
    "print(output)\n"
   ]
  }
 ],
 "metadata": {
  "language_info": {
   "name": "python"
  }
 },
 "nbformat": 4,
 "nbformat_minor": 2
}
