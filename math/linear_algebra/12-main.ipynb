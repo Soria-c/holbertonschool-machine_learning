{
 "cells": [
  {
   "cell_type": "code",
   "execution_count": 1,
   "metadata": {},
   "outputs": [
    {
     "name": "stdout",
     "output_type": "stream",
     "text": [
      "[[11 22 33]\n",
      " [44 55 66]]\n",
      "[[1 2 3]\n",
      " [4 5 6]]\n",
      "Add:\n",
      " [[12 24 36]\n",
      " [48 60 72]] \n",
      "Sub:\n",
      " [[10 20 30]\n",
      " [40 50 60]] \n",
      "Mul:\n",
      " [[ 11  44  99]\n",
      " [176 275 396]] \n",
      "Div:\n",
      " [[11. 11. 11.]\n",
      " [11. 11. 11.]]\n",
      "Add:\n",
      " [[13 24 35]\n",
      " [46 57 68]] \n",
      "Sub:\n",
      " [[ 9 20 31]\n",
      " [42 53 64]] \n",
      "Mul:\n",
      " [[ 22  44  66]\n",
      " [ 88 110 132]] \n",
      "Div:\n",
      " [[ 5.5 11.  16.5]\n",
      " [22.  27.5 33. ]]\n"
     ]
    }
   ],
   "source": [
    "#!/usr/bin/env python3\n",
    "\n",
    "import numpy as np\n",
    "np_elementwise = __import__('12-bracin_the_elements').np_elementwise\n",
    "\n",
    "mat1 = np.array([[11, 22, 33], [44, 55, 66]])\n",
    "mat2 = np.array([[1, 2, 3], [4, 5, 6]])\n",
    "\n",
    "print(mat1)\n",
    "print(mat2)\n",
    "add, sub, mul, div = np_elementwise(mat1, mat2)\n",
    "print(\"Add:\\n\", add, \"\\nSub:\\n\", sub, \"\\nMul:\\n\", mul, \"\\nDiv:\\n\", div)\n",
    "add, sub, mul, div = np_elementwise(mat1, 2)\n",
    "print(\"Add:\\n\", add, \"\\nSub:\\n\", sub, \"\\nMul:\\n\", mul, \"\\nDiv:\\n\", div)"
   ]
  }
 ],
 "metadata": {
  "kernelspec": {
   "display_name": "Python 3",
   "language": "python",
   "name": "python3"
  },
  "language_info": {
   "codemirror_mode": {
    "name": "ipython",
    "version": 3
   },
   "file_extension": ".py",
   "mimetype": "text/x-python",
   "name": "python",
   "nbconvert_exporter": "python",
   "pygments_lexer": "ipython3",
   "version": "3.10.12"
  }
 },
 "nbformat": 4,
 "nbformat_minor": 2
}
