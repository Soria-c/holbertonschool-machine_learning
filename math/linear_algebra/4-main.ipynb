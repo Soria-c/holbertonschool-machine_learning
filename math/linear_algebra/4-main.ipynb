{
 "cells": [
  {
   "cell_type": "code",
   "execution_count": 1,
   "metadata": {},
   "outputs": [
    {
     "name": "stdout",
     "output_type": "stream",
     "text": [
      "[6, 8, 10, 12]\n",
      "[1, 2, 3, 4]\n",
      "[5, 6, 7, 8]\n",
      "None\n"
     ]
    }
   ],
   "source": [
    "#!/usr/bin/env python3\n",
    "\n",
    "add_arrays = __import__('4-line_up').add_arrays\n",
    "\n",
    "arr1 = [1, 2, 3, 4]\n",
    "arr2 = [5, 6, 7, 8]\n",
    "print(add_arrays(arr1, arr2))\n",
    "print(arr1)\n",
    "print(arr2)\n",
    "print(add_arrays(arr1, [1, 2, 3]))"
   ]
  }
 ],
 "metadata": {
  "kernelspec": {
   "display_name": "Python 3",
   "language": "python",
   "name": "python3"
  },
  "language_info": {
   "codemirror_mode": {
    "name": "ipython",
    "version": 3
   },
   "file_extension": ".py",
   "mimetype": "text/x-python",
   "name": "python",
   "nbconvert_exporter": "python",
   "pygments_lexer": "ipython3",
   "version": "3.10.12"
  }
 },
 "nbformat": 4,
 "nbformat_minor": 2
}
