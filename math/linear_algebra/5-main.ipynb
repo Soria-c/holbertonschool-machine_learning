{
 "cells": [
  {
   "cell_type": "code",
   "execution_count": 1,
   "metadata": {},
   "outputs": [
    {
     "name": "stdout",
     "output_type": "stream",
     "text": [
      "[[6, 8], [10, 12]]\n",
      "[[1, 2], [3, 4]]\n",
      "[[5, 6], [7, 8]]\n",
      "None\n"
     ]
    }
   ],
   "source": [
    "#!/usr/bin/env python3\n",
    "\n",
    "add_matrices2D = __import__('5-across_the_planes').add_matrices2D\n",
    "\n",
    "mat1 = [[1, 2], [3, 4]]\n",
    "mat2 = [[5, 6], [7, 8]]\n",
    "print(add_matrices2D(mat1, mat2))\n",
    "print(mat1)\n",
    "print(mat2)\n",
    "print(add_matrices2D(mat1, [[1, 2, 3], [4, 5, 6]]))"
   ]
  }
 ],
 "metadata": {
  "kernelspec": {
   "display_name": "Python 3",
   "language": "python",
   "name": "python3"
  },
  "language_info": {
   "codemirror_mode": {
    "name": "ipython",
    "version": 3
   },
   "file_extension": ".py",
   "mimetype": "text/x-python",
   "name": "python",
   "nbconvert_exporter": "python",
   "pygments_lexer": "ipython3",
   "version": "3.10.12"
  }
 },
 "nbformat": 4,
 "nbformat_minor": 2
}
