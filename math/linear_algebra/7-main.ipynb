{
 "cells": [
  {
   "cell_type": "code",
   "execution_count": 1,
   "metadata": {},
   "outputs": [
    {
     "name": "stdout",
     "output_type": "stream",
     "text": [
      "[[1, 2], [3, 4], [5, 6]]\n",
      "[[1, 2, 7], [3, 4, 8]]\n",
      "[[9, 10], [3, 4, 5]]\n",
      "[[1, 2], [3, 4], [5, 6]]\n",
      "[[1, 2, 7], [3, 4, 8]]\n"
     ]
    }
   ],
   "source": [
    "#!/usr/bin/env python3\n",
    "\n",
    "cat_matrices2D = __import__('7-gettin_cozy').cat_matrices2D\n",
    "\n",
    "mat1 = [[1, 2], [3, 4]]\n",
    "mat2 = [[5, 6]]\n",
    "mat3 = [[7], [8]]\n",
    "mat4 = cat_matrices2D(mat1, mat2)\n",
    "mat5 = cat_matrices2D(mat1, mat3, axis=1)\n",
    "print(mat4)\n",
    "print(mat5)\n",
    "mat1[0] = [9, 10]\n",
    "mat1[1].append(5)\n",
    "print(mat1)\n",
    "print(mat4)\n",
    "print(mat5)"
   ]
  }
 ],
 "metadata": {
  "kernelspec": {
   "display_name": "Python 3",
   "language": "python",
   "name": "python3"
  },
  "language_info": {
   "codemirror_mode": {
    "name": "ipython",
    "version": 3
   },
   "file_extension": ".py",
   "mimetype": "text/x-python",
   "name": "python",
   "nbconvert_exporter": "python",
   "pygments_lexer": "ipython3",
   "version": "3.10.12"
  }
 },
 "nbformat": 4,
 "nbformat_minor": 2
}
