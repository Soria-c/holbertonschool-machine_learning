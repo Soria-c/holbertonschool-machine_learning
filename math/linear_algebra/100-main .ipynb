{
 "cells": [
  {
   "cell_type": "code",
   "execution_count": 1,
   "metadata": {},
   "outputs": [
    {
     "name": "stdout",
     "output_type": "stream",
     "text": [
      "[[2 3]\n",
      " [7 8]]\n",
      "[[ 1  2  3  4  5]\n",
      " [ 6  7  8  9 10]]\n",
      "[[[ 5  3  1]\n",
      "  [10  8  6]]\n",
      "\n",
      " [[15 13 11]\n",
      "  [20 18 16]]]\n",
      "[[[ 1  2  3  4  5]\n",
      "  [ 6  7  8  9 10]]\n",
      "\n",
      " [[11 12 13 14 15]\n",
      "  [16 17 18 19 20]]\n",
      "\n",
      " [[21 22 23 24 25]\n",
      "  [26 27 28 29 30]]]\n"
     ]
    }
   ],
   "source": [
    "#!/usr/bin/env python3\n",
    "\n",
    "import numpy as np\n",
    "np_slice = __import__('100-slice_like_a_ninja').np_slice\n",
    "\n",
    "mat1 = np.array([[1, 2, 3, 4, 5], [6, 7, 8, 9, 10]])\n",
    "print(np_slice(mat1, axes={1: (1, 3)}))\n",
    "print(mat1)\n",
    "mat2 = np.array([[[1, 2, 3, 4, 5], [6, 7, 8, 9, 10]],\n",
    "                 [[11, 12, 13, 14, 15], [16, 17, 18, 19, 20]],\n",
    "                 [[21, 22, 23, 24, 25], [26, 27, 28, 29, 30]]])\n",
    "print(np_slice(mat2, axes={0: (2,), 2: (None, None, -2)}))\n",
    "print(mat2)"
   ]
  }
 ],
 "metadata": {
  "kernelspec": {
   "display_name": "Python 3",
   "language": "python",
   "name": "python3"
  },
  "language_info": {
   "codemirror_mode": {
    "name": "ipython",
    "version": 3
   },
   "file_extension": ".py",
   "mimetype": "text/x-python",
   "name": "python",
   "nbconvert_exporter": "python",
   "pygments_lexer": "ipython3",
   "version": "3.10.12"
  }
 },
 "nbformat": 4,
 "nbformat_minor": 2
}
