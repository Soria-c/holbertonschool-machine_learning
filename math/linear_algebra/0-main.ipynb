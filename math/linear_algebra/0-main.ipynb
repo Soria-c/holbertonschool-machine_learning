{
 "cells": [
  {
   "cell_type": "code",
   "execution_count": 1,
   "metadata": {},
   "outputs": [
    {
     "name": "stdout",
     "output_type": "stream",
     "text": [
      "The first two numbers of the array are: [9, 8]\n",
      "The last five numbers of the array are: [9, 4, 1, 0, 3]\n",
      "The 2nd through 6th numbers of the array are: [8, 2, 3, 9, 4]\n"
     ]
    }
   ],
   "source": [
    "\n",
    "#!/usr/bin/env python3\n",
    "arr = [9, 8, 2, 3, 9, 4, 1, 0, 3]\n",
    "arr1 = arr[:2]\n",
    "arr2 = arr[-5:]\n",
    "arr3 = arr[1:6]\n",
    "print(\"The first two numbers of the array are: {}\".format(arr1))\n",
    "print(\"The last five numbers of the array are: {}\".format(arr2))\n",
    "print(\"The 2nd through 6th numbers of the array are: {}\".format(arr3))\n"
   ]
  }
 ],
 "metadata": {
  "kernelspec": {
   "display_name": "Python 3",
   "language": "python",
   "name": "python3"
  },
  "language_info": {
   "codemirror_mode": {
    "name": "ipython",
    "version": 3
   },
   "file_extension": ".py",
   "mimetype": "text/x-python",
   "name": "python",
   "nbconvert_exporter": "python",
   "pygments_lexer": "ipython3",
   "version": "3.10.12"
  }
 },
 "nbformat": 4,
 "nbformat_minor": 2
}
