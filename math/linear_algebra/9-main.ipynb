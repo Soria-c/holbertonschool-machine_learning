{
 "cells": [
  {
   "cell_type": "code",
   "execution_count": 1,
   "metadata": {},
   "outputs": [
    {
     "name": "stdout",
     "output_type": "stream",
     "text": [
      "The middle two rows of the matrix are:\n",
      "[[ 7  8  9 10 11 12]\n",
      " [13 14 15 16 17 18]]\n",
      "The middle two columns of the matrix are:\n",
      "[[ 3  4]\n",
      " [ 9 10]\n",
      " [15 16]\n",
      " [21 22]]\n",
      "The bottom-right, square, 3x3 matrix is:\n",
      "[[10 11 12]\n",
      " [16 17 18]\n",
      " [22 23 24]]\n"
     ]
    }
   ],
   "source": [
    "#!/usr/bin/env python3\n",
    "import numpy as np\n",
    "matrix = np.array([[1, 2, 3, 4, 5, 6], [7, 8, 9, 10, 11, 12],\n",
    "                   [13, 14, 15, 16, 17, 18], [19, 20, 21, 22, 23, 24]])\n",
    "mat1 = matrix[1:3]\n",
    "mat2 = matrix[:, 2:4]\n",
    "mat3 = matrix[1:, 3:]\n",
    "print(\"The middle two rows of the matrix are:\\n{}\".format(mat1))\n",
    "print(\"The middle two columns of the matrix are:\\n{}\".format(mat2))\n",
    "print(\"The bottom-right, square, 3x3 matrix is:\\n{}\".format(mat3))\n"
   ]
  }
 ],
 "metadata": {
  "kernelspec": {
   "display_name": "Python 3",
   "language": "python",
   "name": "python3"
  },
  "language_info": {
   "codemirror_mode": {
    "name": "ipython",
    "version": 3
   },
   "file_extension": ".py",
   "mimetype": "text/x-python",
   "name": "python",
   "nbconvert_exporter": "python",
   "pygments_lexer": "ipython3",
   "version": "3.10.12"
  }
 },
 "nbformat": 4,
 "nbformat_minor": 2
}
