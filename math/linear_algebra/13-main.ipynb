{
 "cells": [
  {
   "cell_type": "code",
   "execution_count": 1,
   "metadata": {},
   "outputs": [
    {
     "name": "stdout",
     "output_type": "stream",
     "text": [
      "[[11 22 33]\n",
      " [44 55 66]\n",
      " [ 1  2  3]\n",
      " [ 4  5  6]]\n",
      "[[11 22 33  1  2  3]\n",
      " [44 55 66  4  5  6]]\n",
      "[[11 22 33  7]\n",
      " [44 55 66  8]]\n"
     ]
    }
   ],
   "source": [
    "#!/usr/bin/env python3\n",
    "\n",
    "import numpy as np\n",
    "np_cat = __import__('13-cats_got_your_tongue').np_cat\n",
    "\n",
    "mat1 = np.array([[11, 22, 33], [44, 55, 66]])\n",
    "mat2 = np.array([[1, 2, 3], [4, 5, 6]])\n",
    "mat3 = np.array([[7], [8]])\n",
    "print(np_cat(mat1, mat2))\n",
    "print(np_cat(mat1, mat2, axis=1))\n",
    "print(np_cat(mat1, mat3, axis=1))"
   ]
  }
 ],
 "metadata": {
  "kernelspec": {
   "display_name": "Python 3",
   "language": "python",
   "name": "python3"
  },
  "language_info": {
   "codemirror_mode": {
    "name": "ipython",
    "version": 3
   },
   "file_extension": ".py",
   "mimetype": "text/x-python",
   "name": "python",
   "nbconvert_exporter": "python",
   "pygments_lexer": "ipython3",
   "version": "3.10.12"
  }
 },
 "nbformat": 4,
 "nbformat_minor": 2
}
