{
 "cells": [
  {
   "cell_type": "code",
   "execution_count": 1,
   "metadata": {},
   "outputs": [
    {
     "name": "stdout",
     "output_type": "stream",
     "text": [
      "(6,)\n",
      "(0,)\n",
      "(2, 2, 5)\n"
     ]
    }
   ],
   "source": [
    "#!/usr/bin/env python3\n",
    "\n",
    "import numpy as np\n",
    "np_shape = __import__('10-ill_use_my_scale').np_shape\n",
    "\n",
    "mat1 = np.array([1, 2, 3, 4, 5, 6])\n",
    "mat2 = np.array([])\n",
    "mat3 = np.array([[[1, 2, 3, 4, 5], [6, 7, 8, 9, 10]],\n",
    "                 [[11, 12, 13, 14, 15], [16, 17, 18, 19, 20]]])\n",
    "print(np_shape(mat1))\n",
    "print(np_shape(mat2))\n",
    "print(np_shape(mat3))"
   ]
  }
 ],
 "metadata": {
  "kernelspec": {
   "display_name": "Python 3",
   "language": "python",
   "name": "python3"
  },
  "language_info": {
   "codemirror_mode": {
    "name": "ipython",
    "version": 3
   },
   "file_extension": ".py",
   "mimetype": "text/x-python",
   "name": "python",
   "nbconvert_exporter": "python",
   "pygments_lexer": "ipython3",
   "version": "3.10.12"
  }
 },
 "nbformat": 4,
 "nbformat_minor": 2
}
