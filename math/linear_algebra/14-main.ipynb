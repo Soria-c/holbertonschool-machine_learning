{
 "cells": [
  {
   "cell_type": "code",
   "execution_count": 1,
   "metadata": {},
   "outputs": [
    {
     "name": "stdout",
     "output_type": "stream",
     "text": [
      "[[ 330  396  462]\n",
      " [ 726  891 1056]]\n",
      "[[ 550]\n",
      " [1342]]\n"
     ]
    }
   ],
   "source": [
    "#!/usr/bin/env python3\n",
    "\n",
    "import numpy as np\n",
    "np_matmul = __import__('14-saddle_up').np_matmul\n",
    "\n",
    "mat1 = np.array([[11, 22, 33], [44, 55, 66]])\n",
    "mat2 = np.array([[1, 2, 3], [4, 5, 6], [7, 8, 9]])\n",
    "mat3 = np.array([[7], [8], [9]])\n",
    "print(np_matmul(mat1, mat2))\n",
    "print(np_matmul(mat1, mat3))"
   ]
  }
 ],
 "metadata": {
  "kernelspec": {
   "display_name": "Python 3",
   "language": "python",
   "name": "python3"
  },
  "language_info": {
   "codemirror_mode": {
    "name": "ipython",
    "version": 3
   },
   "file_extension": ".py",
   "mimetype": "text/x-python",
   "name": "python",
   "nbconvert_exporter": "python",
   "pygments_lexer": "ipython3",
   "version": "3.10.12"
  }
 },
 "nbformat": 4,
 "nbformat_minor": 2
}
