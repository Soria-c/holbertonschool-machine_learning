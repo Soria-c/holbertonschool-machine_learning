{
 "cells": [
  {
   "cell_type": "code",
   "execution_count": 1,
   "metadata": {},
   "outputs": [
    {
     "name": "stdout",
     "output_type": "stream",
     "text": [
      "[1 2 3 4 5 6]\n",
      "[1 2 3 4 5 6]\n",
      "[]\n",
      "[]\n",
      "[[[ 1 11]\n",
      "  [ 6 16]]\n",
      "\n",
      " [[ 2 12]\n",
      "  [ 7 17]]\n",
      "\n",
      " [[ 3 13]\n",
      "  [ 8 18]]\n",
      "\n",
      " [[ 4 14]\n",
      "  [ 9 19]]\n",
      "\n",
      " [[ 5 15]\n",
      "  [10 20]]]\n",
      "[[[ 1  2  3  4  5]\n",
      "  [ 6  7  8  9 10]]\n",
      "\n",
      " [[11 12 13 14 15]\n",
      "  [16 17 18 19 20]]]\n"
     ]
    }
   ],
   "source": [
    "#!/usr/bin/env python3\n",
    "\n",
    "import numpy as np\n",
    "np_transpose = __import__('11-the_western_exchange').np_transpose\n",
    "\n",
    "mat1 = np.array([1, 2, 3, 4, 5, 6])\n",
    "mat2 = np.array([])\n",
    "mat3 = np.array([[[1, 2, 3, 4, 5], [6, 7, 8, 9, 10]],\n",
    "                 [[11, 12, 13, 14, 15], [16, 17, 18, 19, 20]]])\n",
    "print(np_transpose(mat1))\n",
    "print(mat1)\n",
    "print(np_transpose(mat2))\n",
    "print(mat2)\n",
    "print(np_transpose(mat3))\n",
    "print(mat3)"
   ]
  }
 ],
 "metadata": {
  "kernelspec": {
   "display_name": "Python 3",
   "language": "python",
   "name": "python3"
  },
  "language_info": {
   "codemirror_mode": {
    "name": "ipython",
    "version": 3
   },
   "file_extension": ".py",
   "mimetype": "text/x-python",
   "name": "python",
   "nbconvert_exporter": "python",
   "pygments_lexer": "ipython3",
   "version": "3.10.12"
  }
 },
 "nbformat": 4,
 "nbformat_minor": 2
}
